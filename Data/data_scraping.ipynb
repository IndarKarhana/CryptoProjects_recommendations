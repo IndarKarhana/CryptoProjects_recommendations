{
 "cells": [
  {
   "cell_type": "code",
   "execution_count": 1,
   "metadata": {},
   "outputs": [],
   "source": [
    "from selenium import webdriver\n",
    "from selenium.webdriver.chrome.service import Service\n",
    "from webdriver_manager.chrome import ChromeDriverManager\n",
    "from selenium.webdriver.common.by import By\n",
    "import time\n",
    "import pickle\n",
    "import pandas as pd\n",
    "from datetime import datetime\n",
    "import csv"
   ]
  },
  {
   "cell_type": "markdown",
   "metadata": {
    "jp-MarkdownHeadingCollapsed": true
   },
   "source": [
    "# Project Lists"
   ]
  },
  {
   "cell_type": "code",
   "execution_count": null,
   "metadata": {},
   "outputs": [],
   "source": [
    "driver = webdriver.Chrome(service=Service(ChromeDriverManager().install()))\n",
    "driver.ma   ximize_window()\n",
    "# Extract link and project name\n",
    "i = 1\n",
    "while True:\n",
    "    try:\n",
    "        website = \"https://cryptorank.io/funding-rounds?page={0}\".format(i)\n",
    "        \n",
    "        driver.get(website)\n",
    "        time.sleep(2)\n",
    "        projects = driver.find_elements(By.XPATH,'//tr[@class=\"sc-7ff8d1ea-0 kuuWTw init-scroll\"]')\n",
    "        \n",
    "        for project in projects:    \n",
    "            name = project.find_element(By.TAG_NAME, \"p\").text\n",
    "            token_sale_link = project.find_element(By.TAG_NAME, \"a\").get_attribute(\"href\")\n",
    "            overview_link = token_sale_link.replace(\"/ico/\",\"/price/\")\n",
    "            \n",
    "            data.append([name, overview_link, token_sale_link])\n",
    "        i += 1\n",
    "    except:\n",
    "        break\n",
    "\n",
    "df = pd.DataFrame(data, columns=['First Funding date', 'Overview', 'Token Sale'])\n",
    "df['Name'] = df['Overview'].apply(lambda x: x.split(\"/\")[-1]).apply(lambda x: x.split(\"#\")[0]).apply(lambda x: x.replace(\"-\", \" \").title())\n",
    "\n",
    "def convert_date(date_str):\n",
    "    if len(date_str.split()) == 2:\n",
    "        date_str += \" 2024\"\n",
    "    try:\n",
    "        dt = datetime.strptime(date_str, '%d %b %Y')\n",
    "        return dt.strftime('%Y-%m-%d')\n",
    "    except ValueError:\n",
    "        return None\n",
    "\n",
    "df['First Funding date'] = df['First Funding date'].apply(convert_date)\n",
    "df.drop_duplicates().to_csv(\"project_lists.csv\", index = False)"
   ]
  },
  {
   "cell_type": "markdown",
   "metadata": {},
   "source": [
    "# Project Information"
   ]
  },
  {
   "cell_type": "markdown",
   "metadata": {},
   "source": [
    "## Overview"
   ]
  },
  {
   "cell_type": "code",
   "execution_count": 2,
   "metadata": {},
   "outputs": [
    {
     "data": {
      "text/html": [
       "<div>\n",
       "<style scoped>\n",
       "    .dataframe tbody tr th:only-of-type {\n",
       "        vertical-align: middle;\n",
       "    }\n",
       "\n",
       "    .dataframe tbody tr th {\n",
       "        vertical-align: top;\n",
       "    }\n",
       "\n",
       "    .dataframe thead th {\n",
       "        text-align: right;\n",
       "    }\n",
       "</style>\n",
       "<table border=\"1\" class=\"dataframe\">\n",
       "  <thead>\n",
       "    <tr style=\"text-align: right;\">\n",
       "      <th></th>\n",
       "      <th>First Funding date</th>\n",
       "      <th>Overview</th>\n",
       "      <th>Token Sale</th>\n",
       "      <th>Name</th>\n",
       "    </tr>\n",
       "  </thead>\n",
       "  <tbody>\n",
       "    <tr>\n",
       "      <th>0</th>\n",
       "      <td>2024-04-03</td>\n",
       "      <td>https://cryptorank.io/price/raiinmaker</td>\n",
       "      <td>https://cryptorank.io/ico/raiinmaker</td>\n",
       "      <td>Raiinmaker</td>\n",
       "    </tr>\n",
       "    <tr>\n",
       "      <th>1</th>\n",
       "      <td>2024-04-03</td>\n",
       "      <td>https://cryptorank.io/price/satoshisync#fundin...</td>\n",
       "      <td>https://cryptorank.io/ico/satoshisync#funding-...</td>\n",
       "      <td>Satoshisync</td>\n",
       "    </tr>\n",
       "    <tr>\n",
       "      <th>2</th>\n",
       "      <td>2024-04-03</td>\n",
       "      <td>https://cryptorank.io/price/legitimate</td>\n",
       "      <td>https://cryptorank.io/ico/legitimate</td>\n",
       "      <td>Legitimate</td>\n",
       "    </tr>\n",
       "    <tr>\n",
       "      <th>3</th>\n",
       "      <td>2024-04-03</td>\n",
       "      <td>https://cryptorank.io/price/mangata</td>\n",
       "      <td>https://cryptorank.io/ico/mangata</td>\n",
       "      <td>Mangata</td>\n",
       "    </tr>\n",
       "    <tr>\n",
       "      <th>4</th>\n",
       "      <td>2024-04-02</td>\n",
       "      <td>https://cryptorank.io/price/bonus-block#fundin...</td>\n",
       "      <td>https://cryptorank.io/ico/bonus-block#funding-...</td>\n",
       "      <td>Bonus Block</td>\n",
       "    </tr>\n",
       "  </tbody>\n",
       "</table>\n",
       "</div>"
      ],
      "text/plain": [
       "  First Funding date                                           Overview  \\\n",
       "0         2024-04-03             https://cryptorank.io/price/raiinmaker   \n",
       "1         2024-04-03  https://cryptorank.io/price/satoshisync#fundin...   \n",
       "2         2024-04-03             https://cryptorank.io/price/legitimate   \n",
       "3         2024-04-03                https://cryptorank.io/price/mangata   \n",
       "4         2024-04-02  https://cryptorank.io/price/bonus-block#fundin...   \n",
       "\n",
       "                                          Token Sale         Name  \n",
       "0               https://cryptorank.io/ico/raiinmaker   Raiinmaker  \n",
       "1  https://cryptorank.io/ico/satoshisync#funding-...  Satoshisync  \n",
       "2               https://cryptorank.io/ico/legitimate   Legitimate  \n",
       "3                  https://cryptorank.io/ico/mangata      Mangata  \n",
       "4  https://cryptorank.io/ico/bonus-block#funding-...  Bonus Block  "
      ]
     },
     "execution_count": 2,
     "metadata": {},
     "output_type": "execute_result"
    }
   ],
   "source": [
    "df = pd.read_csv(\"../static/Data/project_lists.csv\")\n",
    "df.head()"
   ]
  },
  {
   "cell_type": "code",
   "execution_count": null,
   "metadata": {},
   "outputs": [],
   "source": [
    "\n",
    "# Extraction of link and project name ends here\n",
    "\n",
    "services = []\n",
    "total_raised_s = []\n",
    "descriptions = []\n",
    "links_s = []\n",
    "name = []\n",
    "\n",
    "\n",
    "\n",
    "for website in df['Overview'][18:300]:\n",
    "    driver = webdriver.Chrome(service=Service(ChromeDriverManager().install()))\n",
    "    \n",
    "    extracted_data = []\n",
    "    crypto_name = website.split(\"/\")[-1].split(\"#\")[0].replace(\"_\",\" \").title()\n",
    "    name.append(crypto_name)\n",
    "    extracted_data.append(crypto_name)\n",
    "    \n",
    "    driver.get(website)\n",
    "    time.sleep(5)\n",
    "    service, total_raised, description, links = '', '', '', []\n",
    "    try:\n",
    "        service_element = driver.find_element(By.XPATH,'//a[starts-with(@href, \"/categories/\")]/p')\n",
    "        services.append(service_element.text)\n",
    "        extracted_data.append(service_element.text)\n",
    "    except:\n",
    "        services.append(\"\")\n",
    "        extracted_data.append(\"\")\n",
    "    try:\n",
    "        total_raised_element = driver.find_element(By.XPATH,'//p[@class=\"sc-50f3633f-0 gsUEex\"]')\n",
    "        total_raised_s.append(total_raised_element.text)\n",
    "        extracted_data.append(total_raised_element.text)\n",
    "    except:\n",
    "        total_raised_s.append(\"\")\n",
    "        extracted_data.append(\"\")\n",
    "    try:\n",
    "        description_element = driver.find_element(By.XPATH,'//div[@class=\"sc-50f3633f-0 sc-f084fb54-0 eEpKHS gQIZzl\"]/p')\n",
    "        descriptions.append(description_element.text)\n",
    "        extracted_data.append(description_element.text)\n",
    "    except:\n",
    "        descriptions.append(\"\")\n",
    "        extracted_data.append(\"\")\n",
    "    \n",
    "    \n",
    "    ###########################\n",
    "    \n",
    "    try:\n",
    "        button = driver.find_elements(By.XPATH,'//button[@class=\"sc-4e8da034-0 cHRla-d\"]')\n",
    "        for i in range(len(button)):\n",
    "            driver.get(website)\n",
    "            time.sleep(5)\n",
    "            button = driver.find_elements(By.XPATH,'//button[@class=\"sc-4e8da034-0 cHRla-d\"]')\n",
    "            link = button[i]\n",
    "            time.sleep(2)\n",
    "            link.click()\n",
    "            time.sleep(5)\n",
    "            link_elements = driver.find_elements(By.XPATH,'//div[@class=\"sc-f30b0320-0 cAUFgN\"]')\n",
    "            heading = []\n",
    "            some_links_text = []\n",
    "            some_links = []\n",
    "            for link_element in link_elements:\n",
    "                some_links.append([i.get_attribute(\"href\") for i in link_element.find_elements(By.TAG_NAME,\"a\")])\n",
    "            links.append([some_links])\n",
    "        links_s.append(links)\n",
    "        extracted_data.append(links)\n",
    "    except:\n",
    "        links_s.append(\"\")\n",
    "        extracted_data.append(\"\")\n",
    "        pass\n",
    "    \n",
    "    ############################\n",
    "    \n",
    "    with open(\"output.csv\", \"a\") as fp:\n",
    "        wr = csv.writer(fp, dialect='excel')\n",
    "        wr.writerow(extracted_data)\n",
    "\n",
    "    print(len(name),len(services),len(total_raised_s),len(descriptions),len(links_s))\n",
    "    \n",
    "    time.sleep(15)\n",
    "    driver.quit()"
   ]
  },
  {
   "cell_type": "code",
   "execution_count": null,
   "metadata": {},
   "outputs": [],
   "source": [
    "print(\"done\")"
   ]
  },
  {
   "cell_type": "code",
   "execution_count": null,
   "metadata": {},
   "outputs": [],
   "source": [
    "# data = [name,services,total_raised_s,descriptions,links_s]\n",
    "# df_overview = pd.DataFrame(data).T\n",
    "# df_overview.columns = [\"Crypto Name\", \"Service\", \"Total Raised\", \"Description\", \"Links\"]\n",
    "# df_overview.head()\n",
    "# df_overview.to_csv(\"Overview_details.csv\", index=False)"
   ]
  },
  {
   "cell_type": "markdown",
   "metadata": {},
   "source": [
    "## Fundraising"
   ]
  },
  {
   "cell_type": "code",
   "execution_count": null,
   "metadata": {},
   "outputs": [],
   "source": [
    "df = pd.read_csv(\"../static/Data/project_lists.csv\")\n",
    "df.head()"
   ]
  },
  {
   "cell_type": "code",
   "execution_count": 5,
   "metadata": {},
   "outputs": [],
   "source": [
    "driver = webdriver.Chrome(service=Service(ChromeDriverManager().install()))\n",
    "data = []\n",
    "for website in df['Token Sale'][185:300]:\n",
    "    crypto_name = website.split(\"/\")[-1].split(\"#\")[0].replace(\"_\",\" \").title()\n",
    "    driver.get(website)\n",
    "    item_elements = driver.find_elements(By.XPATH,'//div[@class=\"sc-e007581-0 sc-b608d829-0 kDrqot bslrEt\"]')\n",
    "    data.append([crypto_name,[div.text for div in item_elements]])\n",
    "    time.sleep(5)\n",
    "\n",
    "driver.quit()\n",
    "\n",
    "df_fundings = pd.DataFrame(data, columns = [\"Name\", \"Funding Details\"])\n",
    "\n",
    "# df_fundings.to_csv(\"Funding_details.csv\", index=False)\n",
    "df_fundings.to_csv(\"Funding_details.csv\", mode='a', index=False)"
   ]
  },
  {
   "cell_type": "markdown",
   "metadata": {},
   "source": [
    "## Twitter"
   ]
  },
  {
   "cell_type": "code",
   "execution_count": 7,
   "metadata": {},
   "outputs": [],
   "source": []
  },
  {
   "cell_type": "code",
   "execution_count": null,
   "metadata": {},
   "outputs": [],
   "source": [
    "driver = webdriver.Chrome(service=Service(ChromeDriverManager().install()))\n",
    "driver.get(twitter_url) \n",
    "followers = driver.find_element(By.XPATH,'//a[contains(@href, \"/verified_followers\")]').text\n",
    "followers\n",
    "\n",
    "driver.quit()"
   ]
  }
 ],
 "metadata": {
  "kernelspec": {
   "display_name": "Python 3 (ipykernel)",
   "language": "python",
   "name": "python3"
  },
  "language_info": {
   "codemirror_mode": {
    "name": "ipython",
    "version": 3
   },
   "file_extension": ".py",
   "mimetype": "text/x-python",
   "name": "python",
   "nbconvert_exporter": "python",
   "pygments_lexer": "ipython3",
   "version": "3.10.13"
  }
 },
 "nbformat": 4,
 "nbformat_minor": 4
}
