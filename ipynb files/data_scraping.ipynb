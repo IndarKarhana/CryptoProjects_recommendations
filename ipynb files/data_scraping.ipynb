{
 "cells": [
  {
   "cell_type": "code",
   "execution_count": 3,
   "metadata": {},
   "outputs": [],
   "source": [
    "from selenium import webdriver\n",
    "from selenium.webdriver.chrome.service import Service\n",
    "from webdriver_manager.chrome import ChromeDriverManager\n",
    "from selenium.webdriver.common.by import By\n",
    "import time\n",
    "import pickle\n",
    "import pandas as pd\n",
    "from datetime import datetime"
   ]
  },
  {
   "cell_type": "markdown",
   "metadata": {
    "jp-MarkdownHeadingCollapsed": true
   },
   "source": [
    "# Project Lists"
   ]
  },
  {
   "cell_type": "code",
   "execution_count": null,
   "metadata": {},
   "outputs": [],
   "source": [
    "driver = webdriver.Chrome(service=Service(ChromeDriverManager().install()))\n",
    "driver.ma   ximize_window()\n",
    "# Extract link and project name\n",
    "i = 1\n",
    "while True:\n",
    "    try:\n",
    "        website = \"https://cryptorank.io/funding-rounds?page={0}\".format(i)\n",
    "        \n",
    "        driver.get(website)\n",
    "        time.sleep(2)\n",
    "        projects = driver.find_elements(By.XPATH,'//tr[@class=\"sc-7ff8d1ea-0 kuuWTw init-scroll\"]')\n",
    "        \n",
    "        for project in projects:    \n",
    "            name = project.find_element(By.TAG_NAME, \"p\").text\n",
    "            token_sale_link = project.find_element(By.TAG_NAME, \"a\").get_attribute(\"href\")\n",
    "            overview_link = token_sale_link.replace(\"/ico/\",\"/price/\")\n",
    "            \n",
    "            data.append([name, overview_link, token_sale_link])\n",
    "        i += 1\n",
    "    except:\n",
    "        break\n",
    "\n",
    "df = pd.DataFrame(data, columns=['First Funding date', 'Overview', 'Token Sale'])\n",
    "df['Name'] = df['Overview'].apply(lambda x: x.split(\"/\")[-1]).apply(lambda x: x.split(\"#\")[0]).apply(lambda x: x.replace(\"-\", \" \").title())\n",
    "\n",
    "def convert_date(date_str):\n",
    "    if len(date_str.split()) == 2:\n",
    "        date_str += \" 2024\"\n",
    "    try:\n",
    "        dt = datetime.strptime(date_str, '%d %b %Y')\n",
    "        return dt.strftime('%Y-%m-%d')\n",
    "    except ValueError:\n",
    "        return None\n",
    "\n",
    "df['First Funding date'] = df['First Funding date'].apply(convert_date)\n",
    "df.drop_duplicates().to_csv(\"project_lists.csv\", index = False)"
   ]
  },
  {
   "cell_type": "markdown",
   "metadata": {},
   "source": [
    "# Project Information"
   ]
  },
  {
   "cell_type": "markdown",
   "metadata": {},
   "source": [
    "## Overview"
   ]
  },
  {
   "cell_type": "code",
   "execution_count": 230,
   "metadata": {},
   "outputs": [
    {
     "data": {
      "text/plain": [
       "0               https://cryptorank.io/price/raiinmaker\n",
       "1    https://cryptorank.io/price/satoshisync#fundin...\n",
       "2               https://cryptorank.io/price/legitimate\n",
       "3                  https://cryptorank.io/price/mangata\n",
       "4    https://cryptorank.io/price/bonus-block#fundin...\n",
       "Name: Overview, dtype: object"
      ]
     },
     "execution_count": 230,
     "metadata": {},
     "output_type": "execute_result"
    }
   ],
   "source": [
    "df = pd.read_csv(\"project_lists.csv\")\n",
    "df.head()"
   ]
  },
  {
   "cell_type": "code",
   "execution_count": 264,
   "metadata": {},
   "outputs": [
    {
     "name": "stdout",
     "output_type": "stream",
     "text": [
      "1 1 1 1 1\n",
      "Satoshisync  help2\n",
      "Satoshisync  help4\n",
      "2 2 1 2 1\n",
      "3 3 2 3 2\n",
      "4 4 3 4 3\n",
      "Bonus-Block  help2\n",
      "Bonus-Block  help4\n",
      "5 5 3 5 3\n",
      "Iotex  help2\n",
      "Iotex  help4\n",
      "6 6 3 6 3\n",
      "Autolayer  help4\n",
      "7 7 4 7 3\n",
      "8 8 5 8 4\n",
      "9 9 6 9 5\n",
      "10 10 7 10 6\n",
      "11 11 8 11 7\n",
      "12 12 9 12 8\n",
      "13 13 10 13 9\n",
      "Metados  help2\n",
      "Metados  help4\n",
      "14 14 10 14 9\n",
      "15 15 11 15 10\n",
      "Bsx  help2\n",
      "16 16 11 16 11\n",
      "17 17 12 17 12\n",
      "18 18 13 18 13\n",
      "Merkle-Trade  help4\n",
      "19 19 14 19 13\n",
      "20 20 15 20 14\n",
      "21 21 16 21 15\n",
      "Biconomy  help2\n",
      "Biconomy  help4\n",
      "22 22 16 22 15\n",
      "23 23 17 23 16\n",
      "24 24 18 24 17\n",
      "Taproot-Labs  help2\n",
      "25 25 18 25 18\n",
      "26 26 19 26 19\n",
      "27 27 20 27 20\n",
      "28 28 21 28 21\n",
      "Hive  help3\n",
      "29 29 22 28 22\n",
      "30 30 23 29 23\n",
      "Bloodloop  help4\n",
      "31 31 24 30 23\n",
      "32 32 25 31 24\n",
      "33 33 26 32 25\n",
      "Illuvium  help2\n",
      "Illuvium  help4\n",
      "34 34 26 33 25\n",
      "35 35 27 34 26\n",
      "36 36 28 35 27\n",
      "Neutronpay  help3\n",
      "37 37 29 35 28\n",
      "38 38 30 36 29\n",
      "39 39 31 37 30\n",
      "Kimafinance  help4\n",
      "40 40 32 38 30\n",
      "41 41 33 39 31\n",
      "42 42 34 40 32\n",
      "43 43 35 41 33\n",
      "44 44 36 42 34\n",
      "45 45 37 43 35\n",
      "Alex-Lab  help2\n",
      "Alex-Lab  help4\n",
      "46 46 37 44 35\n",
      "Blockgames  help4\n",
      "47 47 38 45 35\n",
      "48 48 39 46 36\n",
      "Satoshi-Protocol  help2\n",
      "49 49 39 47 37\n",
      "50 50 40 48 38\n"
     ]
    }
   ],
   "source": [
    "driver = webdriver.Chrome(service=Service(ChromeDriverManager().install()))\n",
    "\n",
    "# Extraction of link and project name ends here\n",
    "\n",
    "services = []\n",
    "total_raised_s = []\n",
    "descriptions = []\n",
    "links_s = []\n",
    "name = []\n",
    "\n",
    "for website in df['Overview'][:50]:\n",
    "    crypto_name = website.split(\"/\")[-1].split(\"#\")[0].replace(\"_\",\" \").title()\n",
    "    name.append(crypto_name)\n",
    "    \n",
    "    driver.get(website)\n",
    "    time.sleep(5)\n",
    "    service, total_raised, description, links = '', '', '', []\n",
    "    try:\n",
    "        service_element = driver.find_element(By.XPATH,'//a[starts-with(@href, \"/categories/\")]/p')\n",
    "        services.append(service_element.text)\n",
    "    except:\n",
    "        # print(crypto_name,\" help1\")\n",
    "        pass\n",
    "    try:\n",
    "        total_raised_element = driver.find_element(By.XPATH,'//p[@class=\"sc-50f3633f-0 gsUEex\"]')\n",
    "        total_raised_s.append(total_raised_element.text)\n",
    "    except:\n",
    "        # print(crypto_name, \" help2\")\n",
    "        pass\n",
    "    try:\n",
    "        description_element = driver.find_element(By.XPATH,'//div[@class=\"sc-50f3633f-0 sc-f084fb54-0 eEpKHS gQIZzl\"]/p')\n",
    "        descriptions.append(description_element.text)\n",
    "    except:\n",
    "        # print(crypto_name, \" help3\")\n",
    "        pass\n",
    "    \n",
    "    \n",
    "    ###########################\n",
    "    \n",
    "    try:\n",
    "        button = driver.find_elements(By.XPATH,'//button[@class=\"sc-4e8da034-0 cHRla-d\"]')\n",
    "        for i in range(len(button)):\n",
    "            driver.get(website)\n",
    "            time.sleep(5)\n",
    "            button = driver.find_elements(By.XPATH,'//button[@class=\"sc-4e8da034-0 cHRla-d\"]')\n",
    "            link = button[i]\n",
    "            time.sleep(2)\n",
    "            link.click()\n",
    "            time.sleep(5)\n",
    "            link_elements = driver.find_elements(By.XPATH,'//div[@class=\"sc-f30b0320-0 cAUFgN\"]')\n",
    "            heading = []\n",
    "            some_links_text = []\n",
    "            some_links = []\n",
    "            for link_element in link_elements:\n",
    "                some_links.append([i.get_attribute(\"href\") for i in link_element.find_elements(By.TAG_NAME,\"a\")])\n",
    "            links.append([some_links])\n",
    "        links_s.append(links)\n",
    "    except:\n",
    "        # print(crypto_name, \" help4\")\n",
    "        pass\n",
    "    \n",
    "    ############################\n",
    "\n",
    "    time.sleep(10)\n",
    "    print(len(name),len(services),len(total_raised_s),len(descriptions),len(links_s))\n",
    "\n",
    "driver.quit()"
   ]
  },
  {
   "cell_type": "code",
   "execution_count": 271,
   "metadata": {},
   "outputs": [],
   "source": [
    "data = [name,services,total_raised_s,descriptions,links_s]\n",
    "df_overview = pd.DataFrame(data).T\n",
    "df_overview.columns = [\"Crypto Name\", \"Service\", \"Total Raised\", \"Description\", \"Links\"]\n",
    "df_overview.head()\n",
    "df_overview.to_csv(\"Overview_details.csv\", index=False)"
   ]
  },
  {
   "cell_type": "markdown",
   "metadata": {},
   "source": [
    "## Fundraising"
   ]
  },
  {
   "cell_type": "code",
   "execution_count": 272,
   "metadata": {},
   "outputs": [
    {
     "data": {
      "text/html": [
       "<div>\n",
       "<style scoped>\n",
       "    .dataframe tbody tr th:only-of-type {\n",
       "        vertical-align: middle;\n",
       "    }\n",
       "\n",
       "    .dataframe tbody tr th {\n",
       "        vertical-align: top;\n",
       "    }\n",
       "\n",
       "    .dataframe thead th {\n",
       "        text-align: right;\n",
       "    }\n",
       "</style>\n",
       "<table border=\"1\" class=\"dataframe\">\n",
       "  <thead>\n",
       "    <tr style=\"text-align: right;\">\n",
       "      <th></th>\n",
       "      <th>First Funding date</th>\n",
       "      <th>Overview</th>\n",
       "      <th>Token Sale</th>\n",
       "      <th>Name</th>\n",
       "    </tr>\n",
       "  </thead>\n",
       "  <tbody>\n",
       "    <tr>\n",
       "      <th>0</th>\n",
       "      <td>2024-04-03</td>\n",
       "      <td>https://cryptorank.io/price/raiinmaker</td>\n",
       "      <td>https://cryptorank.io/ico/raiinmaker</td>\n",
       "      <td>Raiinmaker</td>\n",
       "    </tr>\n",
       "    <tr>\n",
       "      <th>1</th>\n",
       "      <td>2024-04-03</td>\n",
       "      <td>https://cryptorank.io/price/satoshisync#fundin...</td>\n",
       "      <td>https://cryptorank.io/ico/satoshisync#funding-...</td>\n",
       "      <td>Satoshisync</td>\n",
       "    </tr>\n",
       "    <tr>\n",
       "      <th>2</th>\n",
       "      <td>2024-04-03</td>\n",
       "      <td>https://cryptorank.io/price/legitimate</td>\n",
       "      <td>https://cryptorank.io/ico/legitimate</td>\n",
       "      <td>Legitimate</td>\n",
       "    </tr>\n",
       "    <tr>\n",
       "      <th>3</th>\n",
       "      <td>2024-04-03</td>\n",
       "      <td>https://cryptorank.io/price/mangata</td>\n",
       "      <td>https://cryptorank.io/ico/mangata</td>\n",
       "      <td>Mangata</td>\n",
       "    </tr>\n",
       "    <tr>\n",
       "      <th>4</th>\n",
       "      <td>2024-04-02</td>\n",
       "      <td>https://cryptorank.io/price/bonus-block#fundin...</td>\n",
       "      <td>https://cryptorank.io/ico/bonus-block#funding-...</td>\n",
       "      <td>Bonus Block</td>\n",
       "    </tr>\n",
       "  </tbody>\n",
       "</table>\n",
       "</div>"
      ],
      "text/plain": [
       "  First Funding date                                           Overview  \\\n",
       "0         2024-04-03             https://cryptorank.io/price/raiinmaker   \n",
       "1         2024-04-03  https://cryptorank.io/price/satoshisync#fundin...   \n",
       "2         2024-04-03             https://cryptorank.io/price/legitimate   \n",
       "3         2024-04-03                https://cryptorank.io/price/mangata   \n",
       "4         2024-04-02  https://cryptorank.io/price/bonus-block#fundin...   \n",
       "\n",
       "                                          Token Sale         Name  \n",
       "0               https://cryptorank.io/ico/raiinmaker   Raiinmaker  \n",
       "1  https://cryptorank.io/ico/satoshisync#funding-...  Satoshisync  \n",
       "2               https://cryptorank.io/ico/legitimate   Legitimate  \n",
       "3                  https://cryptorank.io/ico/mangata      Mangata  \n",
       "4  https://cryptorank.io/ico/bonus-block#funding-...  Bonus Block  "
      ]
     },
     "execution_count": 272,
     "metadata": {},
     "output_type": "execute_result"
    }
   ],
   "source": [
    "df = pd.read_csv(\"project_lists.csv\")\n",
    "df.head()"
   ]
  },
  {
   "cell_type": "code",
   "execution_count": null,
   "metadata": {},
   "outputs": [],
   "source": [
    "driver = webdriver.Chrome(service=Service(ChromeDriverManager().install()))\n",
    "\n",
    "data = []\n",
    "for website in df['Token Sale'][:50]:\n",
    "    crypto_name = website.split(\"/\")[-1].split(\"#\")[0].replace(\"_\",\" \").title()\n",
    "    driver.get(website)\n",
    "    item_elements = driver.find_elements(By.XPATH,'//div[@class=\"sc-e007581-0 sc-b608d829-0 kDrqot bslrEt\"]')\n",
    "    data.append([crypto_name,[div.text for div in item_elements]])\n",
    "    time.sleep(5)\n",
    "\n",
    "df_fundings = pd.DataFrame(data, columns = [\"Name\", \"Funding Details\"])\n",
    "df_fundings.to_csv(\"Funding_details.csv\", index=False)\n",
    "\n",
    "driver.quit()"
   ]
  },
  {
   "cell_type": "markdown",
   "metadata": {},
   "source": [
    "Twitter"
   ]
  },
  {
   "cell_type": "code",
   "execution_count": null,
   "metadata": {},
   "outputs": [],
   "source": [
    "driver = webdriver.Chrome(service=Service(ChromeDriverManager().install()))\n",
    "driver.get(twitter_url) \n",
    "followers = driver.find_element(By.XPATH,'//a[contains(@href, \"/verified_followers\")]').text\n",
    "followers\n",
    "\n",
    "driver.quit()"
   ]
  }
 ],
 "metadata": {
  "kernelspec": {
   "display_name": "Python 3 (ipykernel)",
   "language": "python",
   "name": "python3"
  },
  "language_info": {
   "codemirror_mode": {
    "name": "ipython",
    "version": 3
   },
   "file_extension": ".py",
   "mimetype": "text/x-python",
   "name": "python",
   "nbconvert_exporter": "python",
   "pygments_lexer": "ipython3",
   "version": "3.10.13"
  }
 },
 "nbformat": 4,
 "nbformat_minor": 4
}
