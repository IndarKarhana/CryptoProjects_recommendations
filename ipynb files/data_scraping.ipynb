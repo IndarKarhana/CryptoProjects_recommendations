{
 "cells": [
  {
   "cell_type": "code",
   "execution_count": 1,
   "metadata": {},
   "outputs": [],
   "source": [
    "from selenium import webdriver\n",
    "from selenium.webdriver.chrome.service import Service\n",
    "from webdriver_manager.chrome import ChromeDriverManager\n",
    "from selenium.webdriver.common.by import By\n",
    "import time\n",
    "import pickle\n",
    "import pandas as pd\n",
    "import numpy as np\n",
    "import re\n",
    "from datetime import datetime"
   ]
  },
  {
   "cell_type": "markdown",
   "metadata": {
    "jp-MarkdownHeadingCollapsed": true
   },
   "source": [
    "# Project Lists"
   ]
  },
  {
   "cell_type": "code",
   "execution_count": null,
   "metadata": {},
   "outputs": [],
   "source": [
    "driver = webdriver.Chrome(service=Service(ChromeDriverManager().install()))\n",
    "driver.ma   ximize_window()\n",
    "# Extract link and project name\n",
    "i = 1\n",
    "while True:\n",
    "    try:\n",
    "        website = \"https://cryptorank.io/funding-rounds?page={0}\".format(i)\n",
    "        \n",
    "        driver.get(website)\n",
    "        time.sleep(2)\n",
    "        projects = driver.find_elements(By.XPATH,'//tr[@class=\"sc-7ff8d1ea-0 kuuWTw init-scroll\"]')\n",
    "        \n",
    "        for project in projects:    \n",
    "            name = project.find_element(By.TAG_NAME, \"p\").text\n",
    "            token_sale_link = project.find_element(By.TAG_NAME, \"a\").get_attribute(\"href\")\n",
    "            overview_link = token_sale_link.replace(\"/ico/\",\"/price/\")\n",
    "            \n",
    "            data.append([name, overview_link, token_sale_link])\n",
    "        i += 1\n",
    "    except:\n",
    "        break\n",
    "\n",
    "df = pd.DataFrame(data, columns=['First Funding date', 'Overview', 'Token Sale'])\n",
    "df['Name'] = df['Overview'].apply(lambda x: x.split(\"/\")[-1]).apply(lambda x: x.split(\"#\")[0]).apply(lambda x: x.replace(\"-\", \" \").title())\n",
    "\n",
    "def convert_date(date_str):\n",
    "    if len(date_str.split()) == 2:\n",
    "        date_str += \" 2024\"\n",
    "    try:\n",
    "        dt = datetime.strptime(date_str, '%d %b %Y')\n",
    "        return dt.strftime('%Y-%m-%d')\n",
    "    except ValueError:\n",
    "        return None\n",
    "\n",
    "df['First Funding date'] = df['First Funding date'].apply(convert_date)\n",
    "df.drop_duplicates().to_csv(\"project_lists.csv\", index = False)"
   ]
  },
  {
   "cell_type": "markdown",
   "metadata": {},
   "source": [
    "# Project Information"
   ]
  },
  {
   "cell_type": "markdown",
   "metadata": {},
   "source": [
    "## Overview"
   ]
  },
  {
   "cell_type": "code",
   "execution_count": null,
   "metadata": {},
   "outputs": [],
   "source": [
    "df = pd.read_csv(\"project_lists.csv\")\n",
    "df.head()"
   ]
  },
  {
   "cell_type": "code",
   "execution_count": null,
   "metadata": {},
   "outputs": [],
   "source": [
    "driver = webdriver.Chrome(service=Service(ChromeDriverManager().install()))\n",
    "\n",
    "# Extraction of link and project name ends here\n",
    "\n",
    "services = []\n",
    "total_raised_s = []\n",
    "descriptions = []\n",
    "links_s = []\n",
    "name = []\n",
    "\n",
    "for website in df['Overview'][:50]:\n",
    "    crypto_name = website.split(\"/\")[-1].split(\"#\")[0].replace(\"_\",\" \").title()\n",
    "    name.append(crypto_name)\n",
    "    \n",
    "    driver.get(website)\n",
    "    time.sleep(5)\n",
    "    service, total_raised, description, links = '', '', '', []\n",
    "    try:\n",
    "        service_element = driver.find_element(By.XPATH,'//a[starts-with(@href, \"/categories/\")]/p')\n",
    "        services.append(service_element.text)\n",
    "    except:\n",
    "        # print(crypto_name,\" help1\")\n",
    "        pass\n",
    "    try:\n",
    "        total_raised_element = driver.find_element(By.XPATH,'//p[@class=\"sc-50f3633f-0 gsUEex\"]')\n",
    "        total_raised_s.append(total_raised_element.text)\n",
    "    except:\n",
    "        # print(crypto_name, \" help2\")\n",
    "        pass\n",
    "    try:\n",
    "        description_element = driver.find_element(By.XPATH,'//div[@class=\"sc-50f3633f-0 sc-f084fb54-0 eEpKHS gQIZzl\"]/p')\n",
    "        descriptions.append(description_element.text)\n",
    "    except:\n",
    "        # print(crypto_name, \" help3\")\n",
    "        pass\n",
    "    \n",
    "    \n",
    "    ###########################\n",
    "    \n",
    "    try:\n",
    "        button = driver.find_elements(By.XPATH,'//button[@class=\"sc-4e8da034-0 cHRla-d\"]')\n",
    "        for i in range(len(button)):\n",
    "            driver.get(website)\n",
    "            time.sleep(5)\n",
    "            button = driver.find_elements(By.XPATH,'//button[@class=\"sc-4e8da034-0 cHRla-d\"]')\n",
    "            link = button[i]\n",
    "            time.sleep(2)\n",
    "            link.click()\n",
    "            time.sleep(5)\n",
    "            link_elements = driver.find_elements(By.XPATH,'//div[@class=\"sc-f30b0320-0 cAUFgN\"]')\n",
    "            heading = []\n",
    "            some_links_text = []\n",
    "            some_links = []\n",
    "            for link_element in link_elements:\n",
    "                some_links.append([i.get_attribute(\"href\") for i in link_element.find_elements(By.TAG_NAME,\"a\")])\n",
    "            links.append([some_links])\n",
    "        links_s.append(links)\n",
    "    except:\n",
    "        # print(crypto_name, \" help4\")\n",
    "        pass\n",
    "    \n",
    "    ############################\n",
    "\n",
    "    time.sleep(10)\n",
    "    print(len(name),len(services),len(total_raised_s),len(descriptions),len(links_s))\n",
    "\n",
    "driver.quit()"
   ]
  },
  {
   "cell_type": "code",
   "execution_count": null,
   "metadata": {},
   "outputs": [],
   "source": [
    "data = [name,services,total_raised_s,descriptions,links_s]\n",
    "df_overview = pd.DataFrame(data).T\n",
    "df_overview.columns = [\"Crypto Name\", \"Service\", \"Total Raised\", \"Description\", \"Links\"]\n",
    "df_overview.head()\n",
    "df_overview.to_csv(\"Overview_details.csv\", index=False)"
   ]
  },
  {
   "cell_type": "markdown",
   "metadata": {},
   "source": [
    "## Fundraising"
   ]
  },
  {
   "cell_type": "code",
   "execution_count": null,
   "metadata": {},
   "outputs": [],
   "source": [
    "df = pd.read_csv(\"project_lists.csv\")\n",
    "df.head()"
   ]
  },
  {
   "cell_type": "code",
   "execution_count": null,
   "metadata": {},
   "outputs": [],
   "source": [
    "driver = webdriver.Chrome(service=Service(ChromeDriverManager().install()))\n",
    "\n",
    "data = []\n",
    "for website in df['Token Sale'][:50]:\n",
    "    crypto_name = website.split(\"/\")[-1].split(\"#\")[0].replace(\"_\",\" \").title()\n",
    "    driver.get(website)\n",
    "    item_elements = driver.find_elements(By.XPATH,'//div[@class=\"sc-e007581-0 sc-b608d829-0 kDrqot bslrEt\"]')\n",
    "    data.append([crypto_name,[div.text for div in item_elements]])\n",
    "    time.sleep(5)\n",
    "\n",
    "df_fundings = pd.DataFrame(data, columns = [\"Name\", \"Funding Details\"])\n",
    "df_fundings.to_csv(\"Funding_details.csv\", index=False)\n",
    "\n",
    "driver.quit()"
   ]
  },
  {
   "cell_type": "markdown",
   "metadata": {},
   "source": [
    "## Twitter"
   ]
  },
  {
   "cell_type": "code",
   "execution_count": 14,
   "metadata": {},
   "outputs": [
    {
     "data": {
      "text/html": [
       "<div>\n",
       "<style scoped>\n",
       "    .dataframe tbody tr th:only-of-type {\n",
       "        vertical-align: middle;\n",
       "    }\n",
       "\n",
       "    .dataframe tbody tr th {\n",
       "        vertical-align: top;\n",
       "    }\n",
       "\n",
       "    .dataframe thead th {\n",
       "        text-align: right;\n",
       "    }\n",
       "</style>\n",
       "<table border=\"1\" class=\"dataframe\">\n",
       "  <thead>\n",
       "    <tr style=\"text-align: right;\">\n",
       "      <th></th>\n",
       "      <th>Crypto Name</th>\n",
       "      <th>Service</th>\n",
       "      <th>Total Raised</th>\n",
       "      <th>Description</th>\n",
       "      <th>Links</th>\n",
       "      <th>twitter_link</th>\n",
       "      <th>followers</th>\n",
       "    </tr>\n",
       "  </thead>\n",
       "  <tbody>\n",
       "    <tr>\n",
       "      <th>0</th>\n",
       "      <td>Raiinmaker</td>\n",
       "      <td>Blockchain Service</td>\n",
       "      <td>300000.0</td>\n",
       "      <td>Raiinmaker is a project focused on acceleratin...</td>\n",
       "      <td>[[[['https://cryptorank.io/blockchains/base'],...</td>\n",
       "      <td>https://twitter.com/Raiinmakerapp</td>\n",
       "      <td>70.2K Followers</td>\n",
       "    </tr>\n",
       "    <tr>\n",
       "      <th>1</th>\n",
       "      <td>Satoshisync</td>\n",
       "      <td>DeFi</td>\n",
       "      <td>NaN</td>\n",
       "      <td>SatoshiSync is The Permissionless Chain Agnost...</td>\n",
       "      <td>NaN</td>\n",
       "      <td>NaN</td>\n",
       "      <td>NaN</td>\n",
       "    </tr>\n",
       "    <tr>\n",
       "      <th>2</th>\n",
       "      <td>Legitimate</td>\n",
       "      <td>Blockchain Infrastructure</td>\n",
       "      <td>4300000.0</td>\n",
       "      <td>Legitimate presents an on-chain framework meti...</td>\n",
       "      <td>[[[['https://cryptorank.io/categories/blockcha...</td>\n",
       "      <td>https://twitter.com/legitimatetech</td>\n",
       "      <td>NaN</td>\n",
       "    </tr>\n",
       "    <tr>\n",
       "      <th>3</th>\n",
       "      <td>Mangata</td>\n",
       "      <td>Blockchain Infrastructure</td>\n",
       "      <td>10600000.0</td>\n",
       "      <td>Gasp offers native cross-chain swaps without r...</td>\n",
       "      <td>[[[['https://cryptorank.io/categories/blockcha...</td>\n",
       "      <td>https://twitter.com/gasp_xyz</td>\n",
       "      <td>49K Followers</td>\n",
       "    </tr>\n",
       "    <tr>\n",
       "      <th>4</th>\n",
       "      <td>Bonus-Block</td>\n",
       "      <td>Blockchain Service</td>\n",
       "      <td>NaN</td>\n",
       "      <td>BonusBlock is a Web3 marketing platform that i...</td>\n",
       "      <td>NaN</td>\n",
       "      <td>NaN</td>\n",
       "      <td>NaN</td>\n",
       "    </tr>\n",
       "    <tr>\n",
       "      <th>...</th>\n",
       "      <td>...</td>\n",
       "      <td>...</td>\n",
       "      <td>...</td>\n",
       "      <td>...</td>\n",
       "      <td>...</td>\n",
       "      <td>...</td>\n",
       "      <td>...</td>\n",
       "    </tr>\n",
       "    <tr>\n",
       "      <th>295</th>\n",
       "      <td>Startale-Labs</td>\n",
       "      <td>Blockchain Infrastructure</td>\n",
       "      <td>7000000.0</td>\n",
       "      <td>Startale Labs is a web3 tech company developin...</td>\n",
       "      <td>[[[['https://startale.org/', 'https://twitter....</td>\n",
       "      <td>https://twitter.com/startalehq</td>\n",
       "      <td>NaN</td>\n",
       "    </tr>\n",
       "    <tr>\n",
       "      <th>296</th>\n",
       "      <td>Lends</td>\n",
       "      <td>DeFi</td>\n",
       "      <td>NaN</td>\n",
       "      <td>Cross-chain lending solution with access to th...</td>\n",
       "      <td>NaN</td>\n",
       "      <td>NaN</td>\n",
       "      <td>NaN</td>\n",
       "    </tr>\n",
       "    <tr>\n",
       "      <th>297</th>\n",
       "      <td>Carry-1St</td>\n",
       "      <td>GameFi</td>\n",
       "      <td>55500000.0</td>\n",
       "      <td>NaN</td>\n",
       "      <td>[[[['https://cryptorank.io/categories/gamefi']...</td>\n",
       "      <td>https://twitter.com/carry1st</td>\n",
       "      <td>NaN</td>\n",
       "    </tr>\n",
       "    <tr>\n",
       "      <th>298</th>\n",
       "      <td>Kodiakfi</td>\n",
       "      <td>DeFi</td>\n",
       "      <td>2000000.0</td>\n",
       "      <td>Kodiak is a foundational building block for li...</td>\n",
       "      <td>[[[['https://cryptorank.io/categories/defi'], ...</td>\n",
       "      <td>https://twitter.com/KodiakFi</td>\n",
       "      <td>NaN</td>\n",
       "    </tr>\n",
       "    <tr>\n",
       "      <th>299</th>\n",
       "      <td>Oobit</td>\n",
       "      <td>CeFi</td>\n",
       "      <td>NaN</td>\n",
       "      <td>Oobit is a financial services provider that ha...</td>\n",
       "      <td>NaN</td>\n",
       "      <td>NaN</td>\n",
       "      <td>NaN</td>\n",
       "    </tr>\n",
       "  </tbody>\n",
       "</table>\n",
       "<p>300 rows × 7 columns</p>\n",
       "</div>"
      ],
      "text/plain": [
       "       Crypto Name                    Service  Total Raised  \\\n",
       "0       Raiinmaker         Blockchain Service      300000.0   \n",
       "1      Satoshisync                       DeFi           NaN   \n",
       "2       Legitimate  Blockchain Infrastructure     4300000.0   \n",
       "3          Mangata  Blockchain Infrastructure    10600000.0   \n",
       "4      Bonus-Block         Blockchain Service           NaN   \n",
       "..             ...                        ...           ...   \n",
       "295  Startale-Labs  Blockchain Infrastructure     7000000.0   \n",
       "296          Lends                       DeFi           NaN   \n",
       "297      Carry-1St                     GameFi    55500000.0   \n",
       "298       Kodiakfi                       DeFi     2000000.0   \n",
       "299          Oobit                       CeFi           NaN   \n",
       "\n",
       "                                           Description  \\\n",
       "0    Raiinmaker is a project focused on acceleratin...   \n",
       "1    SatoshiSync is The Permissionless Chain Agnost...   \n",
       "2    Legitimate presents an on-chain framework meti...   \n",
       "3    Gasp offers native cross-chain swaps without r...   \n",
       "4    BonusBlock is a Web3 marketing platform that i...   \n",
       "..                                                 ...   \n",
       "295  Startale Labs is a web3 tech company developin...   \n",
       "296  Cross-chain lending solution with access to th...   \n",
       "297                                                NaN   \n",
       "298  Kodiak is a foundational building block for li...   \n",
       "299  Oobit is a financial services provider that ha...   \n",
       "\n",
       "                                                 Links  \\\n",
       "0    [[[['https://cryptorank.io/blockchains/base'],...   \n",
       "1                                                  NaN   \n",
       "2    [[[['https://cryptorank.io/categories/blockcha...   \n",
       "3    [[[['https://cryptorank.io/categories/blockcha...   \n",
       "4                                                  NaN   \n",
       "..                                                 ...   \n",
       "295  [[[['https://startale.org/', 'https://twitter....   \n",
       "296                                                NaN   \n",
       "297  [[[['https://cryptorank.io/categories/gamefi']...   \n",
       "298  [[[['https://cryptorank.io/categories/defi'], ...   \n",
       "299                                                NaN   \n",
       "\n",
       "                           twitter_link        followers  \n",
       "0     https://twitter.com/Raiinmakerapp  70.2K Followers  \n",
       "1                                   NaN              NaN  \n",
       "2    https://twitter.com/legitimatetech              NaN  \n",
       "3          https://twitter.com/gasp_xyz    49K Followers  \n",
       "4                                   NaN              NaN  \n",
       "..                                  ...              ...  \n",
       "295      https://twitter.com/startalehq              NaN  \n",
       "296                                 NaN              NaN  \n",
       "297        https://twitter.com/carry1st              NaN  \n",
       "298        https://twitter.com/KodiakFi              NaN  \n",
       "299                                 NaN              NaN  \n",
       "\n",
       "[300 rows x 7 columns]"
      ]
     },
     "execution_count": 14,
     "metadata": {},
     "output_type": "execute_result"
    }
   ],
   "source": [
    "driver = webdriver.Chrome(service=Service(ChromeDriverManager().install()))\n",
    "\n",
    "def get_link(lst):\n",
    "    try:\n",
    "        pattern = r'https://twitter\\.com/[A-Za-z0-9_]+'\n",
    "        return re.findall(pattern, lst)[0]\n",
    "    except:\n",
    "        return np.NaN\n",
    "\n",
    "def get_followers(link):\n",
    "    try:\n",
    "        driver.get(link) \n",
    "        time.sleep(3)\n",
    "        return driver.find_element(By.XPATH,'//a[contains(@href, \"/verified_followers\")]').text\n",
    "\n",
    "    except:\n",
    "        return np.NaN\n",
    "        \n",
    "\n",
    "df2 = pd.read_csv(\"../Data/Cleaned_Overview_Details.csv\")\n",
    "df2['twitter_link'] = df2['Links'].apply(get_link)\n",
    "df2['followers'] = df2[\"twitter_link\"].apply(get_followers)\n",
    "driver.quit()\n",
    "\n",
    "df2[[\"Crypto Name\", \"twitter_link\", \"followers\"]].to_csv(\"../Data/Twitter_followers.csv\", index=False)"
   ]
  },
  {
   "cell_type": "code",
   "execution_count": 55,
   "metadata": {},
   "outputs": [
    {
     "data": {
      "text/plain": [
       "(324, 15)"
      ]
     },
     "execution_count": 55,
     "metadata": {},
     "output_type": "execute_result"
    }
   ],
   "source": [
    "df2  = pd.read_csv(\"../Data/data.csv\")\n",
    "df2.shape"
   ]
  },
  {
   "cell_type": "code",
   "execution_count": 40,
   "metadata": {},
   "outputs": [
    {
     "name": "stdout",
     "output_type": "stream",
     "text": [
      "nan\n"
     ]
    }
   ],
   "source": [
    "def followers_to_number(followers_str):\n",
    "    try:\n",
    "        return float(followers_str.replace(\"Followers\",\"\").replace('K', 'e3').replace('M', 'e6').replace('B', 'e9'))\n",
    "    except:\n",
    "        return np.NaN\n",
    "\n",
    "# Example usage\n",
    "followers_count = \"NaN\"\n",
    "numeric_followers = followers_to_number(followers_count)\n",
    "print(numeric_followers)"
   ]
  },
  {
   "cell_type": "code",
   "execution_count": 51,
   "metadata": {},
   "outputs": [
    {
     "data": {
      "text/plain": [
       "0      70200.0\n",
       "1          NaN\n",
       "2          NaN\n",
       "3      49000.0\n",
       "4          NaN\n",
       "        ...   \n",
       "295        NaN\n",
       "296        NaN\n",
       "297        NaN\n",
       "298    68300.0\n",
       "299        NaN\n",
       "Name: followers, Length: 300, dtype: float64"
      ]
     },
     "execution_count": 51,
     "metadata": {},
     "output_type": "execute_result"
    }
   ],
   "source": [
    "df2[\"followers\"].apply(followers_to_number)"
   ]
  },
  {
   "cell_type": "code",
   "execution_count": 50,
   "metadata": {},
   "outputs": [
    {
     "data": {
      "image/png": "[encoded data removed]",
      "text/plain": [
       "<Figure size 1000x600 with 1 Axes>"
      ]
     },
     "metadata": {},
     "output_type": "display_data"
    }
   ],
   "source": [
    "import pandas as pd\n",
    "import matplotlib.pyplot as plt\n",
    "\n",
    "# Sample data\n",
    "data = {'Value': df2[\"followers\"].apply(followers_to_number).dropna().astype(int).to_list()}\n",
    "df = pd.DataFrame(data)\n",
    "\n",
    "abc= 100000\n",
    "bins = range(0, df['Value'].max() + abc, abc)\n",
    "\n",
    "# Plot the histogram\n",
    "plt.figure(figsize=(10, 6))\n",
    "plt.hist(df['Value'], bins=bins, edgecolor='black')\n",
    "plt.xticks(bins)\n",
    "plt.xlabel('Value')\n",
    "plt.ylabel('Frequency')\n",
    "plt.title('Histogram of Values with Intervals of 1000')\n",
    "plt.grid(axis='y', alpha=0.75)\n",
    "plt.show()\n"
   ]
  },
  {
   "cell_type": "code",
   "execution_count": null,
   "metadata": {},
   "outputs": [],
   "source": []
  }
 ],
 "metadata": {
  "kernelspec": {
   "display_name": "Python 3 (ipykernel)",
   "language": "python",
   "name": "python3"
  },
  "language_info": {
   "codemirror_mode": {
    "name": "ipython",
    "version": 3
   },
   "file_extension": ".py",
   "mimetype": "text/x-python",
   "name": "python",
   "nbconvert_exporter": "python",
   "pygments_lexer": "ipython3",
   "version": "3.10.13"
  }
 },
 "nbformat": 4,
 "nbformat_minor": 4
}
