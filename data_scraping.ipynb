{
 "cells": [
  {
   "cell_type": "code",
   "execution_count": 1,
   "metadata": {},
   "outputs": [],
   "source": [
    "from selenium import webdriver\n",
    "from selenium.webdriver.chrome.service import Service\n",
    "from webdriver_manager.chrome import ChromeDriverManager\n",
    "from selenium.webdriver.common.by import By\n",
    "import time\n",
    "import pickle\n",
    "import pandas as pd"
   ]
  },
  {
   "cell_type": "code",
   "execution_count": 4,
   "metadata": {},
   "outputs": [],
   "source": [
    "data = []\n",
    "\n",
    "# Extract link and project name\n",
    "i = 1\n",
    "while True:\n",
    "    try:\n",
    "        website = \"https://cryptorank.io/funding-rounds?page={0}\".format(i)\n",
    "        \n",
    "        driver = webdriver.Chrome(service=Service(ChromeDriverManager().install()))\n",
    "        driver.maximize_window()\n",
    "        driver.get(website)\n",
    "        time.sleep(2)\n",
    "        projects = driver.find_elements(By.XPATH,'//table/tbody/tr[@class=\"sc-7ff8d1ea-0 kuuWTw init-scroll\"]')\n",
    "        for project in projects:   \n",
    "            name = project.find_element(By.TAG_NAME, \"div\").text\n",
    "            token_sale_link = project.find_element(By.TAG_NAME, \"a\").get_attribute(\"href\")\n",
    "            overview_link = token_sale_link.replace(\"/ico/\",\"/price/\")\n",
    "            data.append([name, overview_link, token_sale_link])\n",
    "        driver.quit()\n",
    "        i += 1\n",
    "    except:\n",
    "        break"
   ]
  },
  {
   "cell_type": "code",
   "execution_count": 5,
   "metadata": {},
   "outputs": [
    {
     "data": {
      "text/plain": [
       "['AutoLayerLAY3R',\n",
       " 'https://cryptorank.io/price/autolayer#funding-rounds',\n",
       " 'https://cryptorank.io/ico/autolayer#funding-rounds']"
      ]
     },
     "execution_count": 5,
     "metadata": {},
     "output_type": "execute_result"
    }
   ],
   "source": [
    "data[0]"
   ]
  },
  {
   "cell_type": "code",
   "execution_count": 6,
   "metadata": {},
   "outputs": [
    {
     "data": {
      "text/html": [
       "<div>\n",
       "<style scoped>\n",
       "    .dataframe tbody tr th:only-of-type {\n",
       "        vertical-align: middle;\n",
       "    }\n",
       "\n",
       "    .dataframe tbody tr th {\n",
       "        vertical-align: top;\n",
       "    }\n",
       "\n",
       "    .dataframe thead th {\n",
       "        text-align: right;\n",
       "    }\n",
       "</style>\n",
       "<table border=\"1\" class=\"dataframe\">\n",
       "  <thead>\n",
       "    <tr style=\"text-align: right;\">\n",
       "      <th></th>\n",
       "      <th>Project Name</th>\n",
       "      <th>Overview</th>\n",
       "      <th>Token Sale</th>\n",
       "    </tr>\n",
       "  </thead>\n",
       "  <tbody>\n",
       "    <tr>\n",
       "      <th>0</th>\n",
       "      <td>AutoLayerLAY3R</td>\n",
       "      <td>https://cryptorank.io/price/autolayer#funding-...</td>\n",
       "      <td>https://cryptorank.io/ico/autolayer#funding-ro...</td>\n",
       "    </tr>\n",
       "    <tr>\n",
       "      <th>1</th>\n",
       "      <td>Camp Network</td>\n",
       "      <td>https://cryptorank.io/price/camp-network</td>\n",
       "      <td>https://cryptorank.io/ico/camp-network</td>\n",
       "    </tr>\n",
       "    <tr>\n",
       "      <th>2</th>\n",
       "      <td>Agora</td>\n",
       "      <td>https://cryptorank.io/price/agoradollar</td>\n",
       "      <td>https://cryptorank.io/ico/agoradollar</td>\n",
       "    </tr>\n",
       "    <tr>\n",
       "      <th>3</th>\n",
       "      <td>Gomble Games</td>\n",
       "      <td>https://cryptorank.io/price/rumby-stars</td>\n",
       "      <td>https://cryptorank.io/ico/rumby-stars</td>\n",
       "    </tr>\n",
       "    <tr>\n",
       "      <th>4</th>\n",
       "      <td>SOAI</td>\n",
       "      <td>https://cryptorank.io/price/soai</td>\n",
       "      <td>https://cryptorank.io/ico/soai</td>\n",
       "    </tr>\n",
       "  </tbody>\n",
       "</table>\n",
       "</div>"
      ],
      "text/plain": [
       "     Project Name                                           Overview  \\\n",
       "0  AutoLayerLAY3R  https://cryptorank.io/price/autolayer#funding-...   \n",
       "1    Camp Network           https://cryptorank.io/price/camp-network   \n",
       "2           Agora            https://cryptorank.io/price/agoradollar   \n",
       "3    Gomble Games            https://cryptorank.io/price/rumby-stars   \n",
       "4            SOAI                   https://cryptorank.io/price/soai   \n",
       "\n",
       "                                          Token Sale  \n",
       "0  https://cryptorank.io/ico/autolayer#funding-ro...  \n",
       "1             https://cryptorank.io/ico/camp-network  \n",
       "2              https://cryptorank.io/ico/agoradollar  \n",
       "3              https://cryptorank.io/ico/rumby-stars  \n",
       "4                     https://cryptorank.io/ico/soai  "
      ]
     },
     "execution_count": 6,
     "metadata": {},
     "output_type": "execute_result"
    }
   ],
   "source": [
    "df = pd.DataFrame(data, columns=['Project Name', 'Overview', 'Token Sale'])\n",
    "df.head()"
   ]
  },
  {
   "cell_type": "code",
   "execution_count": 7,
   "metadata": {},
   "outputs": [
    {
     "data": {
      "text/plain": [
       "(50, 3)"
      ]
     },
     "execution_count": 7,
     "metadata": {},
     "output_type": "execute_result"
    }
   ],
   "source": [
    "df.shape"
   ]
  },
  {
   "cell_type": "code",
   "execution_count": 11,
   "metadata": {},
   "outputs": [],
   "source": [
    "services = []\n",
    "revenues = []\n",
    "\n",
    "for website in df['Overview']:\n",
    "    try:\n",
    "        driver = webdriver.Chrome(service=Service(ChromeDriverManager().install()))\n",
    "        driver.maximize_window()\n",
    "        driver.get(website)\n",
    "        time.sleep(5)\n",
    "        # Write your code here\n",
    "        \n",
    "        # Find the service and revenue element\n",
    "        services.append(driver.find_element(By.XPATH,'//p[@class=\"sc-50f3633f-0 sc-aefd2ffe-3 hbltUU\"]').text)\n",
    "        revenues.append(driver.find_element(By.XPATH,'//p[@class=\"sc-50f3633f-0 gsUEex\"]').text)\n",
    "        \n",
    "        driver.quit()\n",
    "\n",
    "    # By any chance, there's something wrong with the link,\n",
    "    # we don't want to append same data to the next one.\n",
    "    except:\n",
    "        services.append(\"\")\n",
    "        revenues.append(\"\")"
   ]
  },
  {
   "cell_type": "code",
   "execution_count": 12,
   "metadata": {},
   "outputs": [
    {
     "data": {
      "text/plain": [
       "['DeFi',\n",
       " 'Chain',\n",
       " '',\n",
       " 'Stablecoin',\n",
       " '',\n",
       " 'GameFi',\n",
       " '',\n",
       " 'Social',\n",
       " '',\n",
       " 'Blockchain Infrastructure',\n",
       " '',\n",
       " 'Blockchain Service',\n",
       " '',\n",
       " 'GameFi',\n",
       " 'Blockchain Service',\n",
       " '',\n",
       " 'Blockchain Service',\n",
       " '',\n",
       " 'Chain',\n",
       " '',\n",
       " 'DeFi',\n",
       " '',\n",
       " 'DeFi',\n",
       " '',\n",
       " 'Chain',\n",
       " '',\n",
       " '',\n",
       " 'DeFi',\n",
       " '',\n",
       " 'Blockchain Infrastructure',\n",
       " '',\n",
       " 'Chain',\n",
       " '',\n",
       " 'Blockchain Service',\n",
       " '',\n",
       " 'GameFi',\n",
       " '',\n",
       " 'Blockchain Service',\n",
       " '',\n",
       " 'Chain',\n",
       " '',\n",
       " 'DeFi',\n",
       " '',\n",
       " 'GameFi',\n",
       " 'Chain',\n",
       " '',\n",
       " 'GameFi',\n",
       " '',\n",
       " '',\n",
       " 'Chain',\n",
       " '',\n",
       " 'Blockchain Service',\n",
       " '',\n",
       " 'CeFi',\n",
       " '',\n",
       " 'Chain',\n",
       " '',\n",
       " 'Blockchain Service',\n",
       " '',\n",
       " 'DeFi',\n",
       " 'GameFi',\n",
       " '',\n",
       " 'Chain',\n",
       " '',\n",
       " 'Blockchain Service',\n",
       " '',\n",
       " 'DeFi',\n",
       " '',\n",
       " 'GameFi',\n",
       " '',\n",
       " '',\n",
       " 'GameFi',\n",
       " 'Blockchain Infrastructure',\n",
       " '',\n",
       " 'DeFi',\n",
       " '',\n",
       " 'DeFi',\n",
       " '',\n",
       " '',\n",
       " 'Chain',\n",
       " '',\n",
       " 'Blockchain Service',\n",
       " '',\n",
       " 'Blockchain Service',\n",
       " 'DeFi',\n",
       " '',\n",
       " 'Social',\n",
       " '']"
      ]
     },
     "execution_count": 12,
     "metadata": {},
     "output_type": "execute_result"
    }
   ],
   "source": [
    "services"
   ]
  },
  {
   "cell_type": "code",
   "execution_count": 14,
   "metadata": {},
   "outputs": [
    {
     "data": {
      "text/plain": [
       "['$ 300.00K',\n",
       " '',\n",
       " '',\n",
       " '',\n",
       " '',\n",
       " '',\n",
       " '',\n",
       " '$ 1.10M',\n",
       " '',\n",
       " '',\n",
       " '',\n",
       " '',\n",
       " '',\n",
       " '',\n",
       " '',\n",
       " '',\n",
       " '',\n",
       " '',\n",
       " '',\n",
       " '',\n",
       " '',\n",
       " '',\n",
       " '',\n",
       " '$ 460.00K',\n",
       " '',\n",
       " '',\n",
       " '',\n",
       " '',\n",
       " '',\n",
       " '',\n",
       " '',\n",
       " '',\n",
       " '$ 500.00K',\n",
       " '',\n",
       " '',\n",
       " '',\n",
       " '',\n",
       " '',\n",
       " '',\n",
       " '$ 75.00K',\n",
       " '',\n",
       " '',\n",
       " '',\n",
       " '',\n",
       " '',\n",
       " '$ 8.75M',\n",
       " '',\n",
       " '$ 500.00K',\n",
       " '',\n",
       " '']"
      ]
     },
     "execution_count": 14,
     "metadata": {},
     "output_type": "execute_result"
    }
   ],
   "source": [
    "revenues"
   ]
  },
  {
   "cell_type": "code",
   "execution_count": null,
   "metadata": {},
   "outputs": [],
   "source": []
  }
 ],
 "metadata": {
  "kernelspec": {
   "display_name": "base",
   "language": "python",
   "name": "python3"
  },
  "language_info": {
   "codemirror_mode": {
    "name": "ipython",
    "version": 3
   },
   "file_extension": ".py",
   "mimetype": "text/x-python",
   "name": "python",
   "nbconvert_exporter": "python",
   "pygments_lexer": "ipython3",
   "version": "3.11.8"
  }
 },
 "nbformat": 4,
 "nbformat_minor": 2
}
